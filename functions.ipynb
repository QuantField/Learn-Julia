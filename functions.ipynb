{
 "cells": [
  {
   "cell_type": "code",
   "execution_count": null,
   "metadata": {},
   "outputs": [],
   "source": [
    "function simple(x)\n",
    "    return x^2\n",
    "end\n",
    "println(simple(2))\n",
    "println(simple(2.))"
   ]
  },
  {
   "cell_type": "code",
   "execution_count": null,
   "metadata": {},
   "outputs": [],
   "source": [
    "function mod(x::Float64, y::Float64)\n",
    "    r = sqrt(x^2 + y^2)\n",
    "end\n",
    "\n",
    "mod(2.,3.)"
   ]
  },
  {
   "cell_type": "code",
   "execution_count": null,
   "metadata": {},
   "outputs": [],
   "source": [
    "mod(2,3)"
   ]
  },
  {
   "cell_type": "code",
   "execution_count": null,
   "metadata": {},
   "outputs": [],
   "source": [
    "function mod(x::Number, y::Number)\n",
    "    r = sqrt(x^2 + y^2)\n",
    "end\n",
    "\n",
    "mod(2,3)"
   ]
  },
  {
   "cell_type": "code",
   "execution_count": 3,
   "metadata": {},
   "outputs": [],
   "source": [
    "struct Point\n",
    "    \n",
    "    x::Float64 \n",
    "    y::Float64  \n",
    "        \n",
    "    Point(x::Float64, y::Float64) = new(x,y)   \n",
    "    \n",
    "end        \n",
    "        "
   ]
  },
  {
   "cell_type": "code",
   "execution_count": null,
   "metadata": {},
   "outputs": [],
   "source": [
    "p1 = Point(1.,2.)"
   ]
  },
  {
   "cell_type": "code",
   "execution_count": null,
   "metadata": {},
   "outputs": [],
   "source": [
    "mutable struct Point\n",
    "    \n",
    "    x::Float64 \n",
    "    y::Float64  \n",
    "    get_radius::Function\n",
    "        \n",
    "    function Point(x, y)        \n",
    "        this = new()\n",
    "        this.x = x\n",
    "        this.y = y\n",
    "        \n",
    "        this.get_radius = function() \n",
    "                calculate_radius(this)\n",
    "        end\n",
    "        \n",
    "        this\n",
    "    end    \n",
    "    \n",
    "end        \n",
    "\n",
    "function calculate_radius(p::Point)\n",
    "    sqrt(p.x^2 + p.y^2)\n",
    "end\n",
    "        "
   ]
  },
  {
   "cell_type": "code",
   "execution_count": null,
   "metadata": {},
   "outputs": [],
   "source": [
    "p1 = Point(3,4)\n",
    "p1.get_radius()"
   ]
  }
 ],
 "metadata": {
  "kernelspec": {
   "display_name": "Julia 1.3.1",
   "language": "julia",
   "name": "julia-1.3"
  },
  "language_info": {
   "file_extension": ".jl",
   "mimetype": "application/julia",
   "name": "julia",
   "version": "1.3.1"
  }
 },
 "nbformat": 4,
 "nbformat_minor": 2
}
