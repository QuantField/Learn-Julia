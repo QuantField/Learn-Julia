{
 "cells": [
  {
   "cell_type": "code",
   "execution_count": 1,
   "metadata": {},
   "outputs": [
    {
     "name": "stdout",
     "output_type": "stream",
     "text": [
      "4\n",
      "4.0\n"
     ]
    }
   ],
   "source": [
    "function simple(x)\n",
    "    return x^2\n",
    "end\n",
    "println(simple(2))\n",
    "println(simple(2.))"
   ]
  },
  {
   "cell_type": "code",
   "execution_count": 2,
   "metadata": {},
   "outputs": [
    {
     "data": {
      "text/plain": [
       "3.605551275463989"
      ]
     },
     "execution_count": 2,
     "metadata": {},
     "output_type": "execute_result"
    }
   ],
   "source": [
    "function mod(x::Float64, y::Float64)\n",
    "    r = sqrt(x^2 + y^2)\n",
    "end\n",
    "\n",
    "mod(2.,3.)"
   ]
  },
  {
   "cell_type": "code",
   "execution_count": 3,
   "metadata": {},
   "outputs": [
    {
     "ename": "MethodError",
     "evalue": "MethodError: no method matching mod(::Int64, ::Int64)\nYou may have intended to import Base.mod",
     "output_type": "error",
     "traceback": [
      "MethodError: no method matching mod(::Int64, ::Int64)\nYou may have intended to import Base.mod",
      "",
      "Stacktrace:",
      " [1] top-level scope at In[3]:1"
     ]
    }
   ],
   "source": [
    "mod(2,3)"
   ]
  },
  {
   "cell_type": "code",
   "execution_count": 4,
   "metadata": {},
   "outputs": [
    {
     "data": {
      "text/plain": [
       "3.605551275463989"
      ]
     },
     "execution_count": 4,
     "metadata": {},
     "output_type": "execute_result"
    }
   ],
   "source": [
    "function mod(x::Number, y::Number)\n",
    "    r = sqrt(x^2 + y^2)\n",
    "end\n",
    "\n",
    "mod(2,3)"
   ]
  },
  {
   "cell_type": "code",
   "execution_count": 37,
   "metadata": {},
   "outputs": [
    {
     "ename": "LoadError",
     "evalue": "syntax: unexpected \"=\"",
     "output_type": "error",
     "traceback": [
      "syntax: unexpected \"=\"",
      ""
     ]
    }
   ],
   "source": [
    "mutable struct Point\n",
    "    \n",
    "    x::Float64 \n",
    "    y::Float64  \n",
    "        \n",
    "    function Point(x::Float64, y::Float64) = new(x,y)   \n",
    "    \n",
    "end        \n",
    "        "
   ]
  },
  {
   "cell_type": "code",
   "execution_count": 28,
   "metadata": {},
   "outputs": [
    {
     "data": {
      "text/plain": [
       "Point(1.0, 2.0)"
      ]
     },
     "execution_count": 28,
     "metadata": {},
     "output_type": "execute_result"
    }
   ],
   "source": [
    "p1 = Point(1.,2.)"
   ]
  },
  {
   "cell_type": "code",
   "execution_count": 40,
   "metadata": {},
   "outputs": [
    {
     "ename": "ErrorException",
     "evalue": "invalid redefinition of constant Point",
     "output_type": "error",
     "traceback": [
      "invalid redefinition of constant Point",
      "",
      "Stacktrace:",
      " [1] top-level scope at /home/kamel/.julia/packages/IJulia/F1GUo/src/kernel.jl:52"
     ]
    }
   ],
   "source": [
    "mutable struct Point\n",
    "    \n",
    "    x::Float64 \n",
    "    y::Float64  \n",
    "        \n",
    "    function Point(x, y)        \n",
    "        this = new()\n",
    "        this.x = x\n",
    "        this.y = y\n",
    "        this\n",
    "    end    \n",
    "    \n",
    "end        \n",
    "        "
   ]
  },
  {
   "cell_type": "code",
   "execution_count": 22,
   "metadata": {},
   "outputs": [
    {
     "ename": "ErrorException",
     "evalue": "type Point has no field calculate_radius",
     "output_type": "error",
     "traceback": [
      "type Point has no field calculate_radius",
      "",
      "Stacktrace:",
      " [1] getproperty(::Point, ::Symbol) at ./Base.jl:20",
      " [2] top-level scope at In[22]:1"
     ]
    }
   ],
   "source": [
    "p1.calculate_radius()"
   ]
  },
  {
   "cell_type": "code",
   "execution_count": 38,
   "metadata": {},
   "outputs": [
    {
     "name": "stdout",
     "output_type": "stream",
     "text": [
      "Name: Ted Male: true\n",
      "Age: 55.0 Children: 0\n"
     ]
    }
   ],
   "source": [
    "#!/usr/bin/env julia\n",
    "mutable struct Person\n",
    "    name::AbstractString\n",
    "    male::Bool\n",
    "    age::Float64\n",
    "    children::Int\n",
    "    describe::Function\n",
    "    function Person(name,male,age,children)\n",
    "        this = new()\n",
    "        this.name = name\n",
    "        this.male = male\n",
    "        this.age = age\n",
    "        this.children = children\n",
    "        # anonymous functions are not known to be fast ;-)\n",
    "        this.describe =  function() describe(this) end\n",
    "        this\n",
    "    end\n",
    "end\n",
    "\n",
    "function describe(p::Person)\n",
    "    println(\"Name: \", p.name, \" Male: \", p.male)\n",
    "    println(\"Age: \", p.age, \" Children: \", p.children)\n",
    "end\n",
    "\n",
    "ted = Person(\"Ted\",1,55,0)\n",
    "# describe(ted)\n",
    "ted.describe()"
   ]
  }
 ],
 "metadata": {
  "kernelspec": {
   "display_name": "Julia 1.3.1",
   "language": "julia",
   "name": "julia-1.3"
  },
  "language_info": {
   "file_extension": ".jl",
   "mimetype": "application/julia",
   "name": "julia",
   "version": "1.3.1"
  }
 },
 "nbformat": 4,
 "nbformat_minor": 2
}
